{
 "cells": [
  {
   "attachments": {},
   "cell_type": "markdown",
   "metadata": {},
   "source": [
    "# OOP IN C++"
   ]
  },
  {
   "attachments": {},
   "cell_type": "markdown",
   "metadata": {},
   "source": [
    "## Introduction to Classes in C++\n",
    "\n",
    "In C++, classes are a fundamental feature of the language and serve as the building blocks of object-oriented programming. Classes allow us to encapsulate data and functions into a single entity, providing a blueprint for creating objects. A class defines the properties (data members) and behaviors (member functions) that objects of that class will possess.\n",
    "\n",
    "### Example Class\n",
    "\n",
    "Consider the following example of a simple class in C++:\n",
    "\n",
    "```cpp\n",
    "class Rectangle {\n",
    "    private:\n",
    "        double width;\n",
    "        double height;\n",
    "    \n",
    "    public:\n",
    "        void setDimensions(double w, double h) {\n",
    "            width = w;\n",
    "            height = h;\n",
    "        }\n",
    "        \n",
    "        double calculateArea() {\n",
    "            return width * height;\n",
    "        }\n",
    "};\n",
    "\n",
    "int main() {\n",
    "    Rectangle r1;  // Create an object of the Rectangle class\n",
    "    \n",
    "    r1.setDimensions(4.5, 6.2);  // Set the dimensions of the rectangle\n",
    "    \n",
    "    double area = r1.calculateArea();  // Calculate the area\n",
    "    \n",
    "    // Print the area\n",
    "    cout << \"Area of the rectangle: \" << area << endl;\n",
    "    \n",
    "    return 0;\n",
    "}\n"
   ]
  },
  {
   "attachments": {},
   "cell_type": "markdown",
   "metadata": {},
   "source": [
    "## Access Modifiers\n",
    "\n",
    "C++ provides three access modifiers that control the visibility and accessibility of class members. These access modifiers are:\n",
    "\n",
    "- **Public**: Members declared as public are accessible from anywhere in the program. They can be accessed by objects of the class, as well as by external functions and other classes.\n",
    "\n",
    "- **Private**: Members declared as private are only accessible from within the class itself. They cannot be accessed by objects of the class or external functions. Private members are often used for internal implementation details that should not be accessed directly.\n",
    "\n",
    "- **Protected**: Members declared as protected have a level of access between public and private. They are accessible from within the class and its derived classes. Protected members are commonly used when implementing inheritance, as they allow derived classes to access and modify the member.\n",
    "\n",
    "By default, if no access specifier is provided for a member, it is considered to be private.\n",
    "\n",
    "Here's an example that demonstrates the use of access modifiers:\n",
    "\n",
    "```cpp\n",
    "class MyClass {\n",
    "    public:\n",
    "        int publicMember;    // Public member\n",
    "        \n",
    "    private:\n",
    "        int privateMember;   // Private member\n",
    "        \n",
    "    protected:\n",
    "        int protectedMember; // Protected member\n",
    "};"
   ]
  }
 ],
 "metadata": {
  "language_info": {
   "name": "python"
  },
  "orig_nbformat": 4
 },
 "nbformat": 4,
 "nbformat_minor": 2
}
